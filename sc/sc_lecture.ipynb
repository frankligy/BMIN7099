{
  "nbformat": 4,
  "nbformat_minor": 0,
  "metadata": {
    "colab": {
      "name": "sc_lecture.ipynb",
      "provenance": []
    },
    "kernelspec": {
      "name": "python3",
      "display_name": "Python 3"
    },
    "language_info": {
      "name": "python"
    }
  },
  "cells": [
    {
      "cell_type": "code",
      "execution_count": 1,
      "metadata": {
        "id": "vXKGJXGfgaIq"
      },
      "outputs": [],
      "source": [
        "# install packages\n",
        "%%capture\n",
        "!pip install scanpy leidenalg"
      ]
    },
    {
      "cell_type": "code",
      "source": [
        "# load packages\n",
        "%%capture\n",
        "import pandas as pd\n",
        "import numpy as np\n",
        "import os,sys\n",
        "import anndata as ad\n",
        "from scipy.sparse import csr_matrix\n",
        "import scanpy as sc\n",
        "import matplotlib.pyplot as plt\n",
        "from matplotlib import cm\n",
        "from matplotlib.colors import to_hex\n",
        "import seaborn as sns"
      ],
      "metadata": {
        "id": "mycAz-Kfguc4"
      },
      "execution_count": 2,
      "outputs": []
    },
    {
      "cell_type": "code",
      "source": [
        "# read the data\n",
        "adata = sc.read('cell_by_gene_matrix.h5ad')\n"
      ],
      "metadata": {
        "id": "__2ESG6bhBY8"
      },
      "execution_count": 4,
      "outputs": []
    },
    {
      "cell_type": "code",
      "source": [
        "# inspect the data (expression value)\n",
        "adata.X.toarray()"
      ],
      "metadata": {
        "id": "UztOOa6x1NF6"
      },
      "execution_count": null,
      "outputs": []
    },
    {
      "cell_type": "code",
      "source": [
        "# inspect the data (cell metadata)\n",
        "adata.obs"
      ],
      "metadata": {
        "id": "w3oXsBME1sBO"
      },
      "execution_count": null,
      "outputs": []
    },
    {
      "cell_type": "code",
      "source": [
        "# inspect the data (gene metadata)\n",
        "adata.var"
      ],
      "metadata": {
        "id": "ysaN-u711z4p"
      },
      "execution_count": null,
      "outputs": []
    },
    {
      "cell_type": "code",
      "source": [
        "# inspect the data (a holistic view)\n",
        "adata.to_df().head()"
      ],
      "metadata": {
        "id": "XOCZi43m181B"
      },
      "execution_count": null,
      "outputs": []
    },
    {
      "cell_type": "code",
      "source": [
        "# calculate some QC metrics\n",
        "sc.pp.calculate_qc_metrics(adata, percent_top=None, log1p=False, inplace=True)"
      ],
      "metadata": {
        "id": "5_3HhVbY1JqR"
      },
      "execution_count": 12,
      "outputs": []
    },
    {
      "cell_type": "code",
      "source": [
        "# for each gene, how many cells does it expresses?\n",
        "sns.violinplot(adata.var['n_cells_by_counts'])\n",
        "sns.stripplot(adata.var['n_cells_by_counts'],color='k',jitter=True,size=1)"
      ],
      "metadata": {
        "id": "TGp_G0JnhFtI"
      },
      "execution_count": null,
      "outputs": []
    },
    {
      "cell_type": "code",
      "source": [
        "# for each cell, how many genes are expressed?\n",
        "sns.violinplot(adata.obs['n_genes_by_counts'])\n",
        "sns.stripplot(adata.obs['n_genes_by_counts'],color='k',jitter=True,size=1)"
      ],
      "metadata": {
        "id": "aknywRt2hQ1s"
      },
      "execution_count": null,
      "outputs": []
    },
    {
      "cell_type": "code",
      "source": [
        "# conducting QC\n",
        "sc.pp.filter_cells(adata,min_counts=3)    \n",
        "sc.pp.filter_genes(adata,min_counts=200)    # 23249 × 1240"
      ],
      "metadata": {
        "id": "zoMAjYyFhXNu"
      },
      "execution_count": 15,
      "outputs": []
    },
    {
      "cell_type": "code",
      "source": [
        "# normalize and logirithmize\n",
        "sc.pp.normalize_total(adata)\n",
        "sc.pp.log1p(adata)"
      ],
      "metadata": {
        "id": "ILeY876GhgJy"
      },
      "execution_count": 16,
      "outputs": []
    },
    {
      "cell_type": "code",
      "source": [
        "# run PCA\n",
        "sc.tl.pca(adata,n_comps=30)"
      ],
      "metadata": {
        "id": "mQMZ0_Ivhig0"
      },
      "execution_count": 19,
      "outputs": []
    },
    {
      "cell_type": "code",
      "source": [
        "# variance explained by PCA\n",
        "print('total variance explained by default PCs: {}'.format(adata.uns['pca']['variance_ratio'].sum()))\n",
        "sc.pl.pca_variance_ratio(adata,n_pcs=30)"
      ],
      "metadata": {
        "id": "DYANZ2fljimv"
      },
      "execution_count": null,
      "outputs": []
    },
    {
      "cell_type": "code",
      "source": [
        "# visualize the different OD conditions on PC space\n",
        "sc.pl.pca(adata,color='condition',components=['1,2','2,3'])"
      ],
      "metadata": {
        "id": "aPQ6IHq0juEe"
      },
      "execution_count": null,
      "outputs": []
    },
    {
      "cell_type": "code",
      "source": [
        "# neighbor graph\n",
        "sc.pp.neighbors(adata,use_rep='X_pca')"
      ],
      "metadata": {
        "id": "0P-l7Vh3kmvS"
      },
      "execution_count": null,
      "outputs": []
    },
    {
      "cell_type": "code",
      "source": [
        "# clustering on top of graph\n",
        "sc.tl.leiden(adata)"
      ],
      "metadata": {
        "id": "rrH1owiv27Lt"
      },
      "execution_count": 24,
      "outputs": []
    },
    {
      "cell_type": "code",
      "source": [
        "# visualization 2d\n",
        "sc.tl.umap(adata,n_components=2)\n",
        "sc.pl.umap(adata,color=['condition','leiden'])"
      ],
      "metadata": {
        "id": "2iC4JkAMlChe"
      },
      "execution_count": null,
      "outputs": []
    },
    {
      "cell_type": "code",
      "source": [
        "# visualization 3d\n",
        "sc.tl.umap(adata,n_components=3)\n",
        "colors = [to_hex(color) for color in cm.get_cmap('tab20').colors[:len(adata.obs['leiden'].unique())]]\n",
        "dic = pd.Series(index=adata.obs['leiden'].unique(),data=colors).to_dict()\n",
        "adata.obs['color'] = adata.obs['leiden'].map(dic).values\n",
        "fig = plt.figure()\n",
        "ax = fig.add_subplot(projection='3d')\n",
        "ax.scatter(adata.obsm['X_umap'][:,0],adata.obsm['X_umap'][:,1],adata.obsm['X_umap'][:,2],c=adata.obs['color'],s=120000/adata.shape[0])"
      ],
      "metadata": {
        "id": "CO4r6SillaKE"
      },
      "execution_count": null,
      "outputs": []
    },
    {
      "cell_type": "code",
      "source": [
        "# differential analysis\n",
        "sc.tl.rank_genes_groups(adata,groupby='leiden')"
      ],
      "metadata": {
        "id": "x-5FEBXwls6k"
      },
      "execution_count": null,
      "outputs": []
    },
    {
      "cell_type": "code",
      "source": [
        "# visualize the diffentially expressed genes (heatmap)\n",
        "sc.pl.rank_genes_groups_heatmap(adata,n_genes=4)"
      ],
      "metadata": {
        "id": "8drtgGxIlxIC"
      },
      "execution_count": null,
      "outputs": []
    },
    {
      "cell_type": "code",
      "source": [
        "# visualize the diffentially expressed genes (dotplot)\n",
        "sc.pl.rank_genes_groups_dotplot(adata)"
      ],
      "metadata": {
        "id": "mUJBIn_bmIOe"
      },
      "execution_count": null,
      "outputs": []
    },
    {
      "cell_type": "code",
      "source": [
        "# visualize the diffentially expressed genes (stacked_violin)\n",
        "sc.pl.rank_genes_groups_stacked_violin(adata)"
      ],
      "metadata": {
        "id": "2TH3a2C3mR4l"
      },
      "execution_count": null,
      "outputs": []
    },
    {
      "cell_type": "code",
      "source": [
        "# visualize the diffentially expressed genes (track_plot)\n",
        "sc.pl.rank_genes_groups_tracksplot(adata)"
      ],
      "metadata": {
        "id": "dIrNbyKXmobv"
      },
      "execution_count": null,
      "outputs": []
    },
    {
      "cell_type": "code",
      "source": [
        "### Example1: motility\n",
        "import copy\n",
        "cmap = copy.copy(cm.get_cmap('YlOrRd'))\n",
        "cmap.set_under('lightgrey')\n",
        "sc.pl.umap(adata,color=['condition','srfAA','hag'],cmap=cmap,vmin=1e-5)"
      ],
      "metadata": {
        "id": "29lir_vr5rod"
      },
      "execution_count": null,
      "outputs": []
    },
    {
      "cell_type": "code",
      "source": [
        "### Example2: Stress and folding response\n",
        "sc.pl.umap(adata,color=['condition','clpC','groEL'],cmap=cmap,vmin=1e-5)"
      ],
      "metadata": {
        "id": "jHK7pg1J5zfq"
      },
      "execution_count": null,
      "outputs": []
    },
    {
      "cell_type": "code",
      "source": [
        "### Example3: metal intake\n",
        "sc.pl.umap(adata,color=['condition','dhbA','feuA'],cmap=cmap,vmin=1e-5)"
      ],
      "metadata": {
        "id": "-Cin97Vp6ET2"
      },
      "execution_count": null,
      "outputs": []
    },
    {
      "cell_type": "code",
      "source": [
        "### Example4: Antimicrobial agents\n",
        "sc.pl.umap(adata,color=['condition','albA'],cmap=cmap,vmin=1e-5)"
      ],
      "metadata": {
        "id": "MtBbHU-U6KBE"
      },
      "execution_count": null,
      "outputs": []
    },
    {
      "cell_type": "code",
      "source": [
        "# inspect specific genes involved in early growth stage (glycolysis)\n",
        "'''\n",
        "ptsG: glucose permease\n",
        "ldh: lactate dehydrogenase\n",
        "pdhA: pyruvate dehydrogenase\n",
        "ackA: acetate kinase\n",
        "'''\n",
        "import copy\n",
        "cmap = copy.copy(cm.get_cmap('YlOrRd'))\n",
        "cmap.set_under('lightgrey')\n",
        "sc.pl.umap(adata,color=['condition','ptsG','ldh','ackA','pdhA'],cmap=cmap,vmin=1e-5)"
      ],
      "metadata": {
        "id": "cy8WGUIim4pj"
      },
      "execution_count": null,
      "outputs": []
    },
    {
      "cell_type": "code",
      "source": [
        "# inspect specific genes involved in late stage (TCA)\n",
        "'''\n",
        "citZ: acetyl-CoA -> citrate\n",
        "citB: citrate -> isocitrate\n",
        "icd: isocitrate -> 2-oxoglutarate\n",
        "'''\n",
        "sc.pl.umap(adata,color=['condition','citZ','citB','icd'],cmap=cmap,vmin=1e-5)"
      ],
      "metadata": {
        "id": "ItVyT_sJqc_p"
      },
      "execution_count": null,
      "outputs": []
    }
  ]
}